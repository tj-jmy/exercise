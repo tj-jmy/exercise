{
 "cells": [
  {
   "cell_type": "markdown",
   "metadata": {},
   "source": [
    "## 准备数据"
   ]
  },
  {
   "cell_type": "code",
   "execution_count": 38,
   "metadata": {},
   "outputs": [],
   "source": [
    "import os\n",
    "import numpy as np\n",
    "import tensorflow as tf\n",
    "from tensorflow import keras\n",
    "from tensorflow.keras import layers, optimizers, datasets\n",
    "\n",
    "os.environ['TF_CPP_MIN_LOG_LEVEL'] = '2'  # or any {'0', '1', '2'}\n",
    "\n",
    "def mnist_dataset():\n",
    "    (x, y), (x_test, y_test) = datasets.mnist.load_data()\n",
    "    #normalize\n",
    "    x = x/255.0\n",
    "    x_test = x_test/255.0\n",
    "    \n",
    "    return (x, y), (x_test, y_test)"
   ]
  },
  {
   "cell_type": "code",
   "execution_count": 39,
   "metadata": {},
   "outputs": [
    {
     "name": "stdout",
     "output_type": "stream",
     "text": [
      "[(1, 'a'), (2, 'b'), (3, 'c'), (4, 'd')]\n"
     ]
    }
   ],
   "source": [
    "print(list(zip([1, 2, 3, 4], ['a', 'b', 'c', 'd'])))"
   ]
  },
  {
   "cell_type": "markdown",
   "metadata": {},
   "source": [
    "## 建立模型"
   ]
  },
  {
   "cell_type": "code",
   "execution_count": 40,
   "metadata": {},
   "outputs": [],
   "source": [
    "class myModel:\n",
    "    def __init__(self):\n",
    "        ####################\n",
    "        '''声明模型对应的参数'''\n",
    "        self.W1 = tf.Variable(tf.random.normal([784, 256]), trainable=True)\n",
    "        self.b1 = tf.Variable(tf.random.normal([256]), trainable=True)\n",
    "        self.W2 = tf.Variable(tf.random.normal([256, 128]), trainable=True)\n",
    "        self.b2 = tf.Variable(tf.random.normal([128]), trainable=True)\n",
    "        ####################\n",
    "    def __call__(self, x):\n",
    "        ####################\n",
    "        '''实现模型函数体，返回未归一化的logits'''\n",
    "        ####################\n",
    "        x= tf.reshape(x, [-1, 784])\n",
    "        logits = tf.nn.relu(tf.matmul(x, self.W1) + self.b1)    \n",
    "        logits = tf.nn.relu(tf.matmul(logits, self.W2) + self.b2)\n",
    "        return logits\n",
    "        \n",
    "model = myModel()\n",
    "\n",
    "optimizer = optimizers.Adam()"
   ]
  },
  {
   "cell_type": "markdown",
   "metadata": {},
   "source": [
    "## 计算 loss"
   ]
  },
  {
   "cell_type": "code",
   "execution_count": 41,
   "metadata": {},
   "outputs": [],
   "source": [
    "@tf.function\n",
    "def compute_loss(logits, labels):\n",
    "    return tf.reduce_mean(\n",
    "        tf.nn.sparse_softmax_cross_entropy_with_logits(\n",
    "            logits=logits, labels=labels))\n",
    "\n",
    "@tf.function\n",
    "def compute_accuracy(logits, labels):\n",
    "    predictions = tf.argmax(logits, axis=1)\n",
    "    return tf.reduce_mean(tf.cast(tf.equal(predictions, labels), tf.float32))\n",
    "\n",
    "@tf.function\n",
    "def train_one_step(model, optimizer, x, y):\n",
    "    with tf.GradientTape() as tape:\n",
    "        logits = model(x)\n",
    "        loss = compute_loss(logits, y)\n",
    "\n",
    "    # compute gradient\n",
    "    trainable_vars = [model.W1, model.W2, model.b1, model.b2]\n",
    "    grads = tape.gradient(loss, trainable_vars)\n",
    "    for g, v in zip(grads, trainable_vars):\n",
    "        v.assign_sub(0.01*g)\n",
    "\n",
    "    accuracy = compute_accuracy(logits, y)\n",
    "\n",
    "    # loss and accuracy is scalar tensor\n",
    "    return loss, accuracy\n",
    "\n",
    "@tf.function\n",
    "def test(model, x, y):\n",
    "    logits = model(x)\n",
    "    loss = compute_loss(logits, y)\n",
    "    accuracy = compute_accuracy(logits, y)\n",
    "    return loss, accuracy"
   ]
  },
  {
   "cell_type": "markdown",
   "metadata": {},
   "source": [
    "## 实际训练"
   ]
  },
  {
   "cell_type": "code",
   "execution_count": 42,
   "metadata": {},
   "outputs": [
    {
     "name": "stdout",
     "output_type": "stream",
     "text": [
      "epoch 0 : loss 226.20683 ; accuracy 0.01005\n",
      "epoch 1 : loss 215.8148 ; accuracy 0.013866667\n",
      "epoch 2 : loss 207.68785 ; accuracy 0.01795\n",
      "epoch 3 : loss 200.81358 ; accuracy 0.022416666\n",
      "epoch 4 : loss 194.722 ; accuracy 0.026366666\n",
      "epoch 5 : loss 189.1359 ; accuracy 0.029866667\n",
      "epoch 6 : loss 183.90962 ; accuracy 0.033433333\n",
      "epoch 7 : loss 178.94884 ; accuracy 0.0369\n",
      "epoch 8 : loss 174.19646 ; accuracy 0.0402\n",
      "epoch 9 : loss 169.62195 ; accuracy 0.0434\n",
      "epoch 10 : loss 165.2196 ; accuracy 0.047333334\n",
      "epoch 11 : loss 160.99622 ; accuracy 0.0518\n",
      "epoch 12 : loss 156.95636 ; accuracy 0.057116665\n",
      "epoch 13 : loss 153.12013 ; accuracy 0.062816665\n",
      "epoch 14 : loss 149.49225 ; accuracy 0.068783335\n",
      "epoch 15 : loss 146.04982 ; accuracy 0.07535\n",
      "epoch 16 : loss 142.75943 ; accuracy 0.08155\n",
      "epoch 17 : loss 139.57869 ; accuracy 0.08788333\n",
      "epoch 18 : loss 136.46552 ; accuracy 0.09431667\n",
      "epoch 19 : loss 133.38078 ; accuracy 0.100033335\n",
      "epoch 20 : loss 130.29137 ; accuracy 0.10525\n",
      "epoch 21 : loss 127.17375 ; accuracy 0.110316664\n",
      "epoch 22 : loss 124.01238 ; accuracy 0.115483336\n",
      "epoch 23 : loss 120.80717 ; accuracy 0.12053333\n",
      "epoch 24 : loss 117.573715 ; accuracy 0.12586667\n",
      "epoch 25 : loss 114.345795 ; accuracy 0.1323\n",
      "epoch 26 : loss 111.13736 ; accuracy 0.13906667\n",
      "epoch 27 : loss 107.98658 ; accuracy 0.14565\n",
      "epoch 28 : loss 104.922585 ; accuracy 0.15303333\n",
      "epoch 29 : loss 101.96537 ; accuracy 0.16075\n",
      "epoch 30 : loss 99.137245 ; accuracy 0.16923334\n",
      "epoch 31 : loss 96.45393 ; accuracy 0.177\n",
      "epoch 32 : loss 93.94645 ; accuracy 0.1849\n",
      "epoch 33 : loss 91.62061 ; accuracy 0.1936\n",
      "epoch 34 : loss 89.47618 ; accuracy 0.20226666\n",
      "epoch 35 : loss 87.51275 ; accuracy 0.20935\n",
      "epoch 36 : loss 85.71412 ; accuracy 0.21778333\n",
      "epoch 37 : loss 84.07448 ; accuracy 0.2256\n",
      "epoch 38 : loss 82.57019 ; accuracy 0.23306666\n",
      "epoch 39 : loss 81.18469 ; accuracy 0.24016666\n",
      "epoch 40 : loss 79.898895 ; accuracy 0.24663334\n",
      "epoch 41 : loss 78.69399 ; accuracy 0.25283334\n",
      "epoch 42 : loss 77.5561 ; accuracy 0.25966668\n",
      "epoch 43 : loss 76.47194 ; accuracy 0.26588333\n",
      "epoch 44 : loss 75.43045 ; accuracy 0.27228335\n",
      "epoch 45 : loss 74.42214 ; accuracy 0.27811667\n",
      "epoch 46 : loss 73.43889 ; accuracy 0.28351668\n",
      "epoch 47 : loss 72.4741 ; accuracy 0.28881666\n",
      "epoch 48 : loss 71.52178 ; accuracy 0.29331666\n",
      "epoch 49 : loss 70.5775 ; accuracy 0.29855\n",
      "test loss 69.73978 ; accuracy 0.308\n"
     ]
    }
   ],
   "source": [
    "train_data, test_data = mnist_dataset()\n",
    "for epoch in range(50):\n",
    "    loss, accuracy = train_one_step(model, optimizer, \n",
    "                                    tf.constant(train_data[0], dtype=tf.float32), \n",
    "                                    tf.constant(train_data[1], dtype=tf.int64))\n",
    "    print('epoch', epoch, ': loss', loss.numpy(), '; accuracy', accuracy.numpy())\n",
    "loss, accuracy = test(model, \n",
    "                      tf.constant(test_data[0], dtype=tf.float32), \n",
    "                      tf.constant(test_data[1], dtype=tf.int64))\n",
    "\n",
    "print('test loss', loss.numpy(), '; accuracy', accuracy.numpy())"
   ]
  }
 ],
 "metadata": {
  "kernelspec": {
   "display_name": "tf",
   "language": "python",
   "name": "python3"
  },
  "language_info": {
   "codemirror_mode": {
    "name": "ipython",
    "version": 3
   },
   "file_extension": ".py",
   "mimetype": "text/x-python",
   "name": "python",
   "nbconvert_exporter": "python",
   "pygments_lexer": "ipython3",
   "version": "3.9.21"
  }
 },
 "nbformat": 4,
 "nbformat_minor": 2
}
